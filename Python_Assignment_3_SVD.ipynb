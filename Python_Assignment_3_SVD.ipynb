{
 "cells": [
  {
   "cell_type": "code",
   "execution_count": 1,
   "metadata": {
    "collapsed": true
   },
   "outputs": [],
   "source": [
    "import numpy as np\n",
    "from numpy.linalg import norm\n",
    "from random import normalvariate\n",
    "from math import sqrt"
   ]
  },
  {
   "cell_type": "code",
   "execution_count": 2,
   "metadata": {
    "collapsed": true
   },
   "outputs": [],
   "source": [
    "def randomUnitVector(n):\n",
    "    unnormalized = [normalvariate(0, 1) for _ in range(n)]\n",
    "    theNorm = sqrt(sum(x * x for x in unnormalized))\n",
    "    return [x / theNorm for x in unnormalized]"
   ]
  },
  {
   "cell_type": "code",
   "execution_count": 3,
   "metadata": {
    "collapsed": true
   },
   "outputs": [],
   "source": [
    "def svd_1d(A, epsilon=1e-10):\n",
    "    ''' The one-dimensional SVD '''\n",
    "\n",
    "    n, m = A.shape\n",
    "    x = randomUnitVector(m)\n",
    "    lastV = None\n",
    "    currentV = x\n",
    "\n",
    "    if n > m:\n",
    "        B = np.dot(A.T, A)\n",
    "    else:\n",
    "        B = np.dot(A, A.T)\n",
    "\n",
    "    iterations = 0\n",
    "    while True:\n",
    "        iterations += 1\n",
    "        lastV = currentV\n",
    "        currentV = np.dot(B, lastV)\n",
    "        currentV = currentV / norm(currentV)\n",
    "\n",
    "        if abs(np.dot(currentV, lastV)) > 1 - epsilon:\n",
    "            print(\"converged in {} iterations!\".format(iterations))\n",
    "            return currentV"
   ]
  },
  {
   "cell_type": "code",
   "execution_count": 4,
   "metadata": {},
   "outputs": [
    {
     "name": "stdout",
     "output_type": "stream",
     "text": [
      "converged in 5 iterations!\n",
      "converged in 25 iterations!\n",
      "converged in 2 iterations!\n"
     ]
    }
   ],
   "source": [
    "def svd(A, k=None, epsilon=1e-10):\n",
    "    '''\n",
    "        Compute the singular value decomposition of a matrix A\n",
    "        using the power method. A is the input matrix, and k\n",
    "        is the number of singular values you wish to compute.\n",
    "        If k is None, this computes the full-rank decomposition.\n",
    "    '''\n",
    "    n, m = A.shape\n",
    "    svdSoFar = []\n",
    "    if k is None:\n",
    "        k = min(n, m)\n",
    "\n",
    "    for i in range(k):\n",
    "        matrixFor1D = A.copy()\n",
    "\n",
    "        for singularValue, u, v in svdSoFar[:i]:\n",
    "            matrixFor1D -= singularValue * np.outer(u, v)\n",
    "\n",
    "        v = svd_1d(matrixFor1D, epsilon=epsilon)  # next singular vector\n",
    "        u_unnormalized = np.dot(A, v)\n",
    "        sigma = norm(u_unnormalized)  # next singular value\n",
    "        u = u_unnormalized / sigma\n",
    "\n",
    "        svdSoFar.append((sigma, u, v))\n",
    "\n",
    "    singularValues, us, vs = [np.array(x) for x in zip(*svdSoFar)]\n",
    "    return singularValues, us.T, vs\n",
    "\n",
    "\n",
    "if __name__ == \"__main__\":\n",
    "    movieRatings = np.array([\n",
    "        [2, 5, 3],\n",
    "        [1, 2, 1],\n",
    "        [4, 1, 1],\n",
    "        [3, 5, 2],\n",
    "        [5, 3, 1],\n",
    "        [4, 5, 5],\n",
    "        [2, 4, 2],\n",
    "        [2, 2, 5],\n",
    "    ], dtype='float64')\n",
    "\n",
    "    # v1 = svd_1d(movieRatings)\n",
    "    # print(v1)\n",
    "\n",
    "    theSVD = svd(movieRatings)"
   ]
  },
  {
   "cell_type": "code",
   "execution_count": 5,
   "metadata": {},
   "outputs": [
    {
     "data": {
      "text/plain": [
       "(array([ 15.09626916,   4.30056855,   3.40701739]),\n",
       " array([[ 0.3945853 ,  0.23924109,  0.35445268],\n",
       "        [ 0.15830233,  0.03055146,  0.15299676],\n",
       "        [ 0.22155194, -0.52086818, -0.39333521],\n",
       "        [ 0.39692634, -0.08648381,  0.41053113],\n",
       "        [ 0.34630248, -0.64129003, -0.07381141],\n",
       "        [ 0.53347452,  0.19168454, -0.19949858],\n",
       "        [ 0.31660465,  0.06110291,  0.30599352],\n",
       "        [ 0.32840229,  0.45969312, -0.62355998]]),\n",
       " array([[ 0.54184774,  0.67071001,  0.50650678],\n",
       "        [-0.75153119,  0.11682437,  0.64927108],\n",
       "        [-0.37630027,  0.73246171, -0.56736051]]))"
      ]
     },
     "execution_count": 5,
     "metadata": {},
     "output_type": "execute_result"
    }
   ],
   "source": [
    "theSVD"
   ]
  },
  {
   "cell_type": "code",
   "execution_count": null,
   "metadata": {
    "collapsed": true
   },
   "outputs": [],
   "source": []
  }
 ],
 "metadata": {
  "kernelspec": {
   "display_name": "Python 3",
   "language": "python",
   "name": "python3"
  },
  "language_info": {
   "codemirror_mode": {
    "name": "ipython",
    "version": 3
   },
   "file_extension": ".py",
   "mimetype": "text/x-python",
   "name": "python",
   "nbconvert_exporter": "python",
   "pygments_lexer": "ipython3",
   "version": "3.6.2"
  }
 },
 "nbformat": 4,
 "nbformat_minor": 2
}
